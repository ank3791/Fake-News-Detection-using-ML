{
 "cells": [
  {
   "cell_type": "markdown",
   "metadata": {
    "colab_type": "text",
    "id": "4VulXquoOxhD"
   },
   "source": [
    "## Importing libraries and datasets"
   ]
  },
  {
   "cell_type": "code",
   "execution_count": null,
   "metadata": {},
   "outputs": [],
   "source": [
    "!pip install --upgrade tensorflow-gpu==2.0\n",
    "!pip install plotly\n",
    "!pip install --upgrade nbformat\n",
    "!pip install nltk\n",
    "!pip install spacy # spaCy is an open-source software library for advanced natural language processing\n",
    "!pip install WordCloud\n",
    "!pip install gensim # Gensim is an open-source library for unsupervised topic modeling and natural language processing\n",
    "import nltk\n",
    "nltk.download('punkt')\n",
    "\n",
    "import tensorflow as tf\n",
    "import pandas as pd\n",
    "import numpy as np\n",
    "import matplotlib.pyplot as plt\n",
    "import seaborn as sns\n",
    "from wordcloud import WordCloud, STOPWORDS\n",
    "import nltk\n",
    "import re\n",
    "from nltk.stem import PorterStemmer, WordNetLemmatizer\n",
    "from nltk.corpus import stopwords\n",
    "from nltk.tokenize import word_tokenize, sent_tokenize\n",
    "import gensim\n",
    "from gensim.utils import simple_preprocess\n",
    "from gensim.parsing.preprocessing import STOPWORDS\n",
    "# import keras\n",
    "from tensorflow.keras.preprocessing.text import one_hot, Tokenizer\n",
    "from tensorflow.keras.preprocessing.sequence import pad_sequences\n",
    "from tensorflow.keras.models import Sequential\n",
    "from tensorflow.keras.layers import Dense, Flatten, Embedding, Input, LSTM, Conv1D, MaxPool1D, Bidirectional\n",
    "from tensorflow.keras.models import Model\n",
    "from jupyterthemes import jtplot\n",
    "jtplot.style(theme='monokai', context='notebook', ticks=True, grid=False) \n",
    "# setting the style of the notebook to be monokai theme  \n",
    "# this line of code is important to ensure that we are able to see the x and y axes clearly\n",
    "# If you don't run this code line, you will notice that the xlabel and ylabel on any plot is black on black and it will be hard to see them. \n"
   ]
  },
  {
   "cell_type": "code",
   "execution_count": null,
   "metadata": {
    "colab": {},
    "colab_type": "code",
    "id": "8QiTczEunJNx"
   },
   "outputs": [],
   "source": [
    "# load the data\n",
    "df_true = pd.read_csv(\"True.csv\")\n",
    "df_fake = pd.read_csv(\"Fake.csv\")"
   ]
  },
  {
   "cell_type": "code",
   "execution_count": null,
   "metadata": {},
   "outputs": [],
   "source": [
    "df_fake"
   ]
  },
  {
   "cell_type": "code",
   "execution_count": null,
   "metadata": {},
   "outputs": [],
   "source": [
    "df_true"
   ]
  },
  {
   "cell_type": "markdown",
   "metadata": {
    "colab_type": "text",
    "id": "iBqxz1TBPBLE"
   },
   "source": [
    "## Performing Exploratory Data Analysis and Data Cleaning"
   ]
  },
  {
   "cell_type": "code",
   "execution_count": null,
   "metadata": {
    "colab": {
     "base_uri": "https://localhost:8080/",
     "height": 289
    },
    "colab_type": "code",
    "executionInfo": {
     "elapsed": 964,
     "status": "ok",
     "timestamp": 1594741797936,
     "user": {
      "displayName": "Kukeshajanth Kodeswaran",
      "photoUrl": "https://lh3.googleusercontent.com/a-/AOh14Gj_hF0QlKjkAZvh3_nIU1Fj3LuIyLifAN3KKIdI7A=s64",
      "userId": "01021579274124875186"
     },
     "user_tz": 240
    },
    "id": "2IxC_95sovyJ",
    "outputId": "04b84336-6416-4d84-d48d-5fe7974aef76"
   },
   "outputs": [],
   "source": [
    "# add a target class column to indicate whether the news is real or fake\n",
    "df_true['isfake'] = 1\n",
    "df_true.head()"
   ]
  },
  {
   "cell_type": "code",
   "execution_count": null,
   "metadata": {
    "colab": {
     "base_uri": "https://localhost:8080/",
     "height": 289
    },
    "colab_type": "code",
    "executionInfo": {
     "elapsed": 808,
     "status": "ok",
     "timestamp": 1594741798458,
     "user": {
      "displayName": "Kukeshajanth Kodeswaran",
      "photoUrl": "https://lh3.googleusercontent.com/a-/AOh14Gj_hF0QlKjkAZvh3_nIU1Fj3LuIyLifAN3KKIdI7A=s64",
      "userId": "01021579274124875186"
     },
     "user_tz": 240
    },
    "id": "Ll5weq9qpGQO",
    "outputId": "2f3d3d3d-abfe-49dc-c9fa-508c6885426d"
   },
   "outputs": [],
   "source": [
    "df_fake['isfake'] = 0\n",
    "df_fake.head()"
   ]
  },
  {
   "cell_type": "code",
   "execution_count": null,
   "metadata": {
    "colab": {
     "base_uri": "https://localhost:8080/",
     "height": 589
    },
    "colab_type": "code",
    "executionInfo": {
     "elapsed": 1224,
     "status": "ok",
     "timestamp": 1594744193257,
     "user": {
      "displayName": "Kukeshajanth Kodeswaran",
      "photoUrl": "https://lh3.googleusercontent.com/a-/AOh14Gj_hF0QlKjkAZvh3_nIU1Fj3LuIyLifAN3KKIdI7A=s64",
      "userId": "01021579274124875186"
     },
     "user_tz": 240
    },
    "id": "PgTEJ5aGpHfU",
    "outputId": "61760e9a-dca0-481f-d4df-e2c297140154"
   },
   "outputs": [],
   "source": [
    "# Concatenate Real and Fake News\n",
    "df = pd.concat([df_true, df_fake]).reset_index(drop = True)\n",
    "df"
   ]
  },
  {
   "cell_type": "code",
   "execution_count": null,
   "metadata": {},
   "outputs": [],
   "source": [
    "df.drop(columns = ['date'], inplace = True)"
   ]
  },
  {
   "cell_type": "code",
   "execution_count": null,
   "metadata": {
    "colab": {
     "base_uri": "https://localhost:8080/",
     "height": 374
    },
    "colab_type": "code",
    "executionInfo": {
     "elapsed": 821,
     "status": "ok",
     "timestamp": 1594744200953,
     "user": {
      "displayName": "Kukeshajanth Kodeswaran",
      "photoUrl": "https://lh3.googleusercontent.com/a-/AOh14Gj_hF0QlKjkAZvh3_nIU1Fj3LuIyLifAN3KKIdI7A=s64",
      "userId": "01021579274124875186"
     },
     "user_tz": 240
    },
    "id": "xUAF66vVqO3M",
    "outputId": "3bfdc752-c577-4805-d281-e237c11c4b3c"
   },
   "outputs": [],
   "source": [
    "# combine title and text together\n",
    "df['original'] = df['title'] + ' ' + df['text']\n",
    "df.head()"
   ]
  },
  {
   "cell_type": "code",
   "execution_count": null,
   "metadata": {
    "colab": {
     "base_uri": "https://localhost:8080/",
     "height": 68
    },
    "colab_type": "code",
    "executionInfo": {
     "elapsed": 876,
     "status": "ok",
     "timestamp": 1594744220721,
     "user": {
      "displayName": "Kukeshajanth Kodeswaran",
      "photoUrl": "https://lh3.googleusercontent.com/a-/AOh14Gj_hF0QlKjkAZvh3_nIU1Fj3LuIyLifAN3KKIdI7A=s64",
      "userId": "01021579274124875186"
     },
     "user_tz": 240
    },
    "id": "YDtZAF0l8qx4",
    "outputId": "812270ff-2ec0-4711-d2fe-6b083c2cf372"
   },
   "outputs": [],
   "source": [
    "# download stopwords\n",
    "nltk.download(\"stopwords\")"
   ]
  },
  {
   "cell_type": "code",
   "execution_count": null,
   "metadata": {
    "colab": {},
    "colab_type": "code",
    "id": "xlZjHcAb8t91"
   },
   "outputs": [],
   "source": [
    "# Obtain additional stopwords from nltk\n",
    "from nltk.corpus import stopwords\n",
    "stop_words = stopwords.words('english')\n",
    "stop_words.extend(['from', 'subject', 're', 'edu', 'use'])"
   ]
  },
  {
   "cell_type": "code",
   "execution_count": null,
   "metadata": {
    "colab": {},
    "colab_type": "code",
    "id": "-Sl0PEtkKhfn"
   },
   "outputs": [],
   "source": [
    "# Remove stopwords and remove words with 2 or less characters\n",
    "def preprocess(text):\n",
    "    result = []\n",
    "    for token in gensim.utils.simple_preprocess(text):\n",
    "        if token not in gensim.parsing.preprocessing.STOPWORDS and len(token) > 3 and token not in stop_words:\n",
    "            result.append(token)\n",
    "            \n",
    "    return result"
   ]
  },
  {
   "cell_type": "code",
   "execution_count": null,
   "metadata": {
    "colab": {},
    "colab_type": "code",
    "id": "Xhh3-a4tRgIR"
   },
   "outputs": [],
   "source": [
    "# Apply the function to the dataframe\n",
    "df['clean'] = df['original'].apply(preprocess)"
   ]
  },
  {
   "cell_type": "code",
   "execution_count": null,
   "metadata": {},
   "outputs": [],
   "source": [
    "# Show original news\n",
    "df['original'][0]"
   ]
  },
  {
   "cell_type": "code",
   "execution_count": null,
   "metadata": {
    "colab": {
     "base_uri": "https://localhost:8080/",
     "height": 54
    },
    "colab_type": "code",
    "executionInfo": {
     "elapsed": 1000,
     "status": "ok",
     "timestamp": 1594744426274,
     "user": {
      "displayName": "Kukeshajanth Kodeswaran",
      "photoUrl": "https://lh3.googleusercontent.com/a-/AOh14Gj_hF0QlKjkAZvh3_nIU1Fj3LuIyLifAN3KKIdI7A=s64",
      "userId": "01021579274124875186"
     },
     "user_tz": 240
    },
    "id": "Y_eqTqT7RmSY",
    "outputId": "13b483aa-00e0-4426-8b27-5eac860768bb"
   },
   "outputs": [],
   "source": [
    "# Show cleaned up news after removing stopwords\n",
    "print(df['clean'][0])"
   ]
  },
  {
   "cell_type": "code",
   "execution_count": null,
   "metadata": {
    "colab": {},
    "colab_type": "code",
    "id": "otIh6BSiR5eG"
   },
   "outputs": [],
   "source": [
    "# Obtain the total words present in the dataset\n",
    "list_of_words = []\n",
    "for i in df.clean:\n",
    "    for j in i:\n",
    "        list_of_words.append(j)\n"
   ]
  },
  {
   "cell_type": "code",
   "execution_count": null,
   "metadata": {},
   "outputs": [],
   "source": [
    "list_of_words"
   ]
  },
  {
   "cell_type": "code",
   "execution_count": null,
   "metadata": {},
   "outputs": [],
   "source": [
    "len(list_of_words)"
   ]
  },
  {
   "cell_type": "code",
   "execution_count": null,
   "metadata": {
    "colab": {
     "base_uri": "https://localhost:8080/",
     "height": 34
    },
    "colab_type": "code",
    "executionInfo": {
     "elapsed": 2576,
     "status": "ok",
     "timestamp": 1594744434519,
     "user": {
      "displayName": "Kukeshajanth Kodeswaran",
      "photoUrl": "https://lh3.googleusercontent.com/a-/AOh14Gj_hF0QlKjkAZvh3_nIU1Fj3LuIyLifAN3KKIdI7A=s64",
      "userId": "01021579274124875186"
     },
     "user_tz": 240
    },
    "id": "IKrrX-uETd9p",
    "outputId": "291bb604-ccdb-4a34-b08e-6a73e94bd7e0"
   },
   "outputs": [],
   "source": [
    "# Obtain the total number of unique words\n",
    "total_words = len(list(set(list_of_words)))\n",
    "total_words"
   ]
  },
  {
   "cell_type": "code",
   "execution_count": null,
   "metadata": {
    "colab": {},
    "colab_type": "code",
    "id": "NKfwnpbC6-i2"
   },
   "outputs": [],
   "source": [
    "# join the words into a string\n",
    "df['clean_joined'] = df['clean'].apply(lambda x: \" \".join(x))"
   ]
  },
  {
   "cell_type": "code",
   "execution_count": null,
   "metadata": {},
   "outputs": [],
   "source": [
    "df"
   ]
  },
  {
   "cell_type": "code",
   "execution_count": null,
   "metadata": {
    "colab": {
     "base_uri": "https://localhost:8080/",
     "height": 188
    },
    "colab_type": "code",
    "executionInfo": {
     "elapsed": 831,
     "status": "ok",
     "timestamp": 1594744443762,
     "user": {
      "displayName": "Kukeshajanth Kodeswaran",
      "photoUrl": "https://lh3.googleusercontent.com/a-/AOh14Gj_hF0QlKjkAZvh3_nIU1Fj3LuIyLifAN3KKIdI7A=s64",
      "userId": "01021579274124875186"
     },
     "user_tz": 240
    },
    "id": "gPV9j8V3Xecm",
    "outputId": "650f24e0-4828-440d-861a-8a24d0497067"
   },
   "outputs": [],
   "source": [
    "df['clean_joined'][0]"
   ]
  },
  {
   "cell_type": "markdown",
   "metadata": {
    "colab_type": "text",
    "id": "tf4bOLzfPc78"
   },
   "source": [
    "## Visualizing cleaned up dataset"
   ]
  },
  {
   "cell_type": "code",
   "execution_count": null,
   "metadata": {},
   "outputs": [],
   "source": [
    "df"
   ]
  },
  {
   "cell_type": "code",
   "execution_count": null,
   "metadata": {
    "colab": {
     "base_uri": "https://localhost:8080/",
     "height": 514
    },
    "colab_type": "code",
    "executionInfo": {
     "elapsed": 1497,
     "status": "ok",
     "timestamp": 1594744216940,
     "user": {
      "displayName": "Kukeshajanth Kodeswaran",
      "photoUrl": "https://lh3.googleusercontent.com/a-/AOh14Gj_hF0QlKjkAZvh3_nIU1Fj3LuIyLifAN3KKIdI7A=s64",
      "userId": "01021579274124875186"
     },
     "user_tz": 240
    },
    "id": "vbQz3U4DIFja",
    "outputId": "5343ade2-9855-4536-a388-dbb7edd6508e"
   },
   "outputs": [],
   "source": [
    "# plot the number of samples in 'subject'\n",
    "plt.figure(figsize = (8, 8))\n",
    "sns.countplot(y = \"subject\", data = df)"
   ]
  },
  {
   "cell_type": "code",
   "execution_count": null,
   "metadata": {
    "colab": {
     "base_uri": "https://localhost:8080/",
     "height": 474
    },
    "colab_type": "code",
    "executionInfo": {
     "elapsed": 95098,
     "status": "ok",
     "timestamp": 1594741901837,
     "user": {
      "displayName": "Kukeshajanth Kodeswaran",
      "photoUrl": "https://lh3.googleusercontent.com/a-/AOh14Gj_hF0QlKjkAZvh3_nIU1Fj3LuIyLifAN3KKIdI7A=s64",
      "userId": "01021579274124875186"
     },
     "user_tz": 240
    },
    "id": "HTUOMF5nUnbC",
    "outputId": "62f3036d-6404-4741-c310-79240a75cb4b"
   },
   "outputs": [],
   "source": [
    "# plot the word cloud for text that is Real\n",
    "plt.figure(figsize = (20,20)) \n",
    "wc = WordCloud(max_words = 2000 , width = 1600 , height = 800 , stopwords = stop_words).generate(\" \".join(df[df.isfake == 1].clean_joined))\n",
    "plt.imshow(wc, interpolation = 'bilinear')"
   ]
  },
  {
   "cell_type": "code",
   "execution_count": null,
   "metadata": {
    "colab": {
     "base_uri": "https://localhost:8080/",
     "height": 474
    },
    "colab_type": "code",
    "executionInfo": {
     "elapsed": 143776,
     "status": "ok",
     "timestamp": 1594741950887,
     "user": {
      "displayName": "Kukeshajanth Kodeswaran",
      "photoUrl": "https://lh3.googleusercontent.com/a-/AOh14Gj_hF0QlKjkAZvh3_nIU1Fj3LuIyLifAN3KKIdI7A=s64",
      "userId": "01021579274124875186"
     },
     "user_tz": 240
    },
    "id": "C-1fy0se7Phi",
    "outputId": "2df97653-1b7f-4cf2-e1fe-6b7b3169e4cf"
   },
   "outputs": [],
   "source": [
    "# plot the word cloud for text that is Fake\n",
    "plt.figure(figsize = (20,20)) \n",
    "wc = WordCloud(max_words = 2000 , width = 1600 , height = 800 , stopwords = stop_words).generate(\" \".join(df[df.isfake == 0].clean_joined))\n",
    "plt.imshow(wc, interpolation = 'bilinear')"
   ]
  },
  {
   "cell_type": "code",
   "execution_count": null,
   "metadata": {
    "colab": {
     "base_uri": "https://localhost:8080/",
     "height": 34
    },
    "colab_type": "code",
    "executionInfo": {
     "elapsed": 192762,
     "status": "ok",
     "timestamp": 1594742000367,
     "user": {
      "displayName": "Kukeshajanth Kodeswaran",
      "photoUrl": "https://lh3.googleusercontent.com/a-/AOh14Gj_hF0QlKjkAZvh3_nIU1Fj3LuIyLifAN3KKIdI7A=s64",
      "userId": "01021579274124875186"
     },
     "user_tz": 240
    },
    "id": "r20ny06ECP1B",
    "outputId": "eed02fe9-efe0-4e59-eaaa-e1229af8b49b"
   },
   "outputs": [],
   "source": [
    "# length of maximum document will be needed to create word embeddings \n",
    "maxlen = -1\n",
    "for doc in df.clean_joined:\n",
    "    tokens = nltk.word_tokenize(doc)\n",
    "    if(maxlen<len(tokens)):\n",
    "        maxlen = len(tokens)\n",
    "print(\"The maximum number of words in any document is =\", maxlen)"
   ]
  },
  {
   "cell_type": "code",
   "execution_count": null,
   "metadata": {
    "colab": {
     "base_uri": "https://localhost:8080/",
     "height": 542
    },
    "colab_type": "code",
    "executionInfo": {
     "elapsed": 248341,
     "status": "ok",
     "timestamp": 1594742056443,
     "user": {
      "displayName": "Kukeshajanth Kodeswaran",
      "photoUrl": "https://lh3.googleusercontent.com/a-/AOh14Gj_hF0QlKjkAZvh3_nIU1Fj3LuIyLifAN3KKIdI7A=s64",
      "userId": "01021579274124875186"
     },
     "user_tz": 240
    },
    "id": "ZDtUZMRVcD7I",
    "outputId": "d73c3cf6-df7c-4127-a396-9faf58d9a426"
   },
   "outputs": [],
   "source": [
    "# visualize the distribution of number of words in a text\n",
    "import plotly.express as px\n",
    "fig = px.histogram(x = [len(nltk.word_tokenize(x)) for x in df.clean_joined], nbins = 100)\n",
    "fig.show()"
   ]
  },
  {
   "cell_type": "markdown",
   "metadata": {},
   "source": [
    "## Preparing data before model training"
   ]
  },
  {
   "cell_type": "code",
   "execution_count": null,
   "metadata": {
    "colab": {},
    "colab_type": "code",
    "id": "lUgEf-SZ7R7c"
   },
   "outputs": [],
   "source": [
    "# split data into test and train \n",
    "from sklearn.model_selection import train_test_split\n",
    "x_train, x_test, y_train, y_test = train_test_split(df.clean_joined, df.isfake, test_size = 0.2)"
   ]
  },
  {
   "cell_type": "code",
   "execution_count": null,
   "metadata": {},
   "outputs": [],
   "source": [
    "from nltk import word_tokenize"
   ]
  },
  {
   "cell_type": "code",
   "execution_count": null,
   "metadata": {
    "colab": {},
    "colab_type": "code",
    "id": "Kme-IYsM6uJa"
   },
   "outputs": [],
   "source": [
    "# Create a tokenizer to tokenize the words and create sequences of tokenized words\n",
    "tokenizer = Tokenizer(num_words = total_words)\n",
    "tokenizer.fit_on_texts(x_train)\n",
    "train_sequences = tokenizer.texts_to_sequences(x_train)\n",
    "test_sequences = tokenizer.texts_to_sequences(x_test)\n"
   ]
  },
  {
   "cell_type": "code",
   "execution_count": null,
   "metadata": {
    "colab": {
     "base_uri": "https://localhost:8080/",
     "height": 88
    },
    "colab_type": "code",
    "executionInfo": {
     "elapsed": 255068,
     "status": "ok",
     "timestamp": 1594742066355,
     "user": {
      "displayName": "Kukeshajanth Kodeswaran",
      "photoUrl": "https://lh3.googleusercontent.com/a-/AOh14Gj_hF0QlKjkAZvh3_nIU1Fj3LuIyLifAN3KKIdI7A=s64",
      "userId": "01021579274124875186"
     },
     "user_tz": 240
    },
    "id": "TEWCpgXYNF1r",
    "outputId": "7508611b-2c39-45ee-d7de-1776ab6b034d"
   },
   "outputs": [],
   "source": [
    "print(\"The encoding for document\\n\",df.clean_joined[0],\"\\n is : \",train_sequences[0])"
   ]
  },
  {
   "cell_type": "code",
   "execution_count": null,
   "metadata": {
    "colab": {},
    "colab_type": "code",
    "id": "URy4Wkai_Qh3"
   },
   "outputs": [],
   "source": [
    "# Add padding can either be maxlen = 4406 or smaller number maxlen = 40 seems to work well based on results\n",
    "padded_train = pad_sequences(train_sequences,maxlen = 40, padding = 'post', truncating = 'post')\n",
    "padded_test = pad_sequences(test_sequences,maxlen = 40, truncating = 'post') "
   ]
  },
  {
   "cell_type": "code",
   "execution_count": null,
   "metadata": {
    "colab": {
     "base_uri": "https://localhost:8080/",
     "height": 173
    },
    "colab_type": "code",
    "executionInfo": {
     "elapsed": 253261,
     "status": "ok",
     "timestamp": 1594742066361,
     "user": {
      "displayName": "Kukeshajanth Kodeswaran",
      "photoUrl": "https://lh3.googleusercontent.com/a-/AOh14Gj_hF0QlKjkAZvh3_nIU1Fj3LuIyLifAN3KKIdI7A=s64",
      "userId": "01021579274124875186"
     },
     "user_tz": 240
    },
    "id": "D60mkoZvSG5D",
    "outputId": "7dd38880-3835-46df-cf7b-efabdcbee61b"
   },
   "outputs": [],
   "source": [
    "for i,doc in enumerate(padded_train[:2]):\n",
    "     print(\"The padded encoding for document\",i+1,\" is : \",doc)"
   ]
  },
  {
   "cell_type": "markdown",
   "metadata": {},
   "source": [
    "## Building and training the model"
   ]
  },
  {
   "cell_type": "code",
   "execution_count": null,
   "metadata": {
    "colab": {
     "base_uri": "https://localhost:8080/",
     "height": 289
    },
    "colab_type": "code",
    "executionInfo": {
     "elapsed": 259747,
     "status": "ok",
     "timestamp": 1594742074176,
     "user": {
      "displayName": "Kukeshajanth Kodeswaran",
      "photoUrl": "https://lh3.googleusercontent.com/a-/AOh14Gj_hF0QlKjkAZvh3_nIU1Fj3LuIyLifAN3KKIdI7A=s64",
      "userId": "01021579274124875186"
     },
     "user_tz": 240
    },
    "id": "Z0d7qNMLUCc3",
    "outputId": "73763673-5405-4eea-b841-cb15edfafd24"
   },
   "outputs": [],
   "source": [
    "# Sequential Model\n",
    "model = Sequential()\n",
    "\n",
    "# embeddidng layer\n",
    "model.add(Embedding(total_words, output_dim = 128))\n",
    "# model.add(Embedding(total_words, output_dim = 240))\n",
    "\n",
    "\n",
    "# Bi-Directional RNN and LSTM\n",
    "model.add(Bidirectional(LSTM(128)))\n",
    "\n",
    "# Dense layers\n",
    "model.add(Dense(128, activation = 'relu'))\n",
    "model.add(Dense(1,activation= 'sigmoid'))\n",
    "model.compile(optimizer='adam', loss='binary_crossentropy', metrics=['acc'])\n",
    "model.summary()"
   ]
  },
  {
   "cell_type": "code",
   "execution_count": null,
   "metadata": {},
   "outputs": [],
   "source": [
    "total_words"
   ]
  },
  {
   "cell_type": "code",
   "execution_count": null,
   "metadata": {},
   "outputs": [],
   "source": [
    "y_train = np.asarray(y_train)"
   ]
  },
  {
   "cell_type": "code",
   "execution_count": null,
   "metadata": {
    "colab": {
     "base_uri": "https://localhost:8080/",
     "height": 275
    },
    "colab_type": "code",
    "executionInfo": {
     "elapsed": 756753,
     "status": "ok",
     "timestamp": 1594742572420,
     "user": {
      "displayName": "Kukeshajanth Kodeswaran",
      "photoUrl": "https://lh3.googleusercontent.com/a-/AOh14Gj_hF0QlKjkAZvh3_nIU1Fj3LuIyLifAN3KKIdI7A=s64",
      "userId": "01021579274124875186"
     },
     "user_tz": 240
    },
    "id": "SEdds6i0-ohn",
    "outputId": "a28adf0d-496c-43ff-c86e-19e059c6ddf3"
   },
   "outputs": [],
   "source": [
    "# train the model\n",
    "model.fit(padded_train, y_train, batch_size = 64, validation_split = 0.1, epochs = 2)"
   ]
  },
  {
   "cell_type": "markdown",
   "metadata": {
    "colab_type": "text",
    "id": "RXa2MqEQQ2ww"
   },
   "source": [
    "## Assess model performance\n"
   ]
  },
  {
   "cell_type": "code",
   "execution_count": null,
   "metadata": {
    "colab": {},
    "colab_type": "code",
    "id": "7qRUkys-BSuQ"
   },
   "outputs": [],
   "source": [
    "# make prediction\n",
    "pred = model.predict(padded_test)"
   ]
  },
  {
   "cell_type": "code",
   "execution_count": null,
   "metadata": {
    "colab": {},
    "colab_type": "code",
    "id": "Qh66RfZgF7ln"
   },
   "outputs": [],
   "source": [
    "# if the predicted value is >0.5 it is real else it is fake\n",
    "prediction = []\n",
    "for i in range(len(pred)):\n",
    "    if pred[i].item() > 0.5:\n",
    "        prediction.append(1)\n",
    "    else:\n",
    "        prediction.append(0)"
   ]
  },
  {
   "cell_type": "code",
   "execution_count": null,
   "metadata": {},
   "outputs": [],
   "source": [
    "# getting the accuracy\n",
    "from sklearn.metrics import accuracy_score\n",
    "\n",
    "accuracy = accuracy_score(list(y_test), prediction)\n",
    "\n",
    "print(\"Model Accuracy : \", accuracy)"
   ]
  },
  {
   "cell_type": "code",
   "execution_count": null,
   "metadata": {
    "colab": {
     "base_uri": "https://localhost:8080/",
     "height": 939
    },
    "colab_type": "code",
    "executionInfo": {
     "elapsed": 1370,
     "status": "ok",
     "timestamp": 1594743803350,
     "user": {
      "displayName": "Kukeshajanth Kodeswaran",
      "photoUrl": "https://lh3.googleusercontent.com/a-/AOh14Gj_hF0QlKjkAZvh3_nIU1Fj3LuIyLifAN3KKIdI7A=s64",
      "userId": "01021579274124875186"
     },
     "user_tz": 240
    },
    "id": "7rpgzbSqHfR4",
    "outputId": "83a2b1b5-bf82-443d-f320-e69b24fb3bc2"
   },
   "outputs": [],
   "source": [
    "# get the confusion matrix\n",
    "from sklearn.metrics import confusion_matrix\n",
    "cm = confusion_matrix(list(y_test), prediction)\n",
    "plt.figure(figsize = (25, 25))\n",
    "sns.heatmap(cm, annot = True)"
   ]
  },
  {
   "cell_type": "code",
   "execution_count": null,
   "metadata": {
    "colab": {},
    "colab_type": "code",
    "id": "hXQmpaLlI0f8"
   },
   "outputs": [],
   "source": [
    "# category dict\n",
    "category = { 0: 'Fake News', 1 : \"Real News\"}"
   ]
  }
 ],
 "metadata": {
  "accelerator": "GPU",
  "colab": {
   "authorship_tag": "ABX9TyMaP+zcpR2ZiRWod+z33Yf5",
   "collapsed_sections": [],
   "mount_file_id": "1H7gdt6J40zOB2rJugzLowy5j5DjIAg6z",
   "name": "FakeNewsClassiication.ipynb",
   "provenance": []
  },
  "kernelspec": {
   "display_name": "Python 3 (ipykernel)",
   "language": "python",
   "name": "python3"
  },
  "language_info": {
   "codemirror_mode": {
    "name": "ipython",
    "version": 3
   },
   "file_extension": ".py",
   "mimetype": "text/x-python",
   "name": "python",
   "nbconvert_exporter": "python",
   "pygments_lexer": "ipython3",
   "version": "3.9.6"
  }
 },
 "nbformat": 4,
 "nbformat_minor": 1
}
